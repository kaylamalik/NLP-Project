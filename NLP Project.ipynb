{
 "cells": [
  {
   "cell_type": "code",
   "execution_count": 9,
   "metadata": {},
   "outputs": [],
   "source": [
    "import pandas as pd\n",
    "import glob\n",
    "import os\n",
    "import nltk"
   ]
  },
  {
   "cell_type": "markdown",
   "metadata": {},
   "source": [
    "### Import Data"
   ]
  },
  {
   "cell_type": "code",
   "execution_count": 10,
   "metadata": {},
   "outputs": [],
   "source": [
    "#import csv files and concatenate into one df\n",
    "\n",
    "path = ''                   \n",
    "all_files = glob.glob(os.path.join(path, \"*.csv\")) \n",
    "\n",
    "df_from_each_file = (pd.read_csv(f) for f in all_files)\n",
    "songs = pd.concat(df_from_each_file, ignore_index=True)"
   ]
  },
  {
   "cell_type": "code",
   "execution_count": 11,
   "metadata": {},
   "outputs": [
    {
     "data": {
      "text/html": [
       "<div>\n",
       "<style scoped>\n",
       "    .dataframe tbody tr th:only-of-type {\n",
       "        vertical-align: middle;\n",
       "    }\n",
       "\n",
       "    .dataframe tbody tr th {\n",
       "        vertical-align: top;\n",
       "    }\n",
       "\n",
       "    .dataframe thead th {\n",
       "        text-align: right;\n",
       "    }\n",
       "</style>\n",
       "<table border=\"1\" class=\"dataframe\">\n",
       "  <thead>\n",
       "    <tr style=\"text-align: right;\">\n",
       "      <th></th>\n",
       "      <th>album_name</th>\n",
       "      <th>track_title</th>\n",
       "      <th>track_n</th>\n",
       "      <th>lyric</th>\n",
       "      <th>line</th>\n",
       "    </tr>\n",
       "  </thead>\n",
       "  <tbody>\n",
       "    <tr>\n",
       "      <th>0</th>\n",
       "      <td>Taylor Swift</td>\n",
       "      <td>Tim McGraw</td>\n",
       "      <td>1</td>\n",
       "      <td>He said the way my blue eyes shined</td>\n",
       "      <td>1</td>\n",
       "    </tr>\n",
       "    <tr>\n",
       "      <th>1</th>\n",
       "      <td>Taylor Swift</td>\n",
       "      <td>Tim McGraw</td>\n",
       "      <td>1</td>\n",
       "      <td>Put those Georgia stars to shame that night</td>\n",
       "      <td>2</td>\n",
       "    </tr>\n",
       "    <tr>\n",
       "      <th>2</th>\n",
       "      <td>Taylor Swift</td>\n",
       "      <td>Tim McGraw</td>\n",
       "      <td>1</td>\n",
       "      <td>I said, \"That's a lie\"</td>\n",
       "      <td>3</td>\n",
       "    </tr>\n",
       "    <tr>\n",
       "      <th>3</th>\n",
       "      <td>Taylor Swift</td>\n",
       "      <td>Tim McGraw</td>\n",
       "      <td>1</td>\n",
       "      <td>Just a boy in a Chevy truck</td>\n",
       "      <td>4</td>\n",
       "    </tr>\n",
       "    <tr>\n",
       "      <th>4</th>\n",
       "      <td>Taylor Swift</td>\n",
       "      <td>Tim McGraw</td>\n",
       "      <td>1</td>\n",
       "      <td>That had a tendency of gettin' stuck</td>\n",
       "      <td>5</td>\n",
       "    </tr>\n",
       "    <tr>\n",
       "      <th>...</th>\n",
       "      <td>...</td>\n",
       "      <td>...</td>\n",
       "      <td>...</td>\n",
       "      <td>...</td>\n",
       "      <td>...</td>\n",
       "    </tr>\n",
       "    <tr>\n",
       "      <th>8353</th>\n",
       "      <td>evermore (deluxe version)</td>\n",
       "      <td>​it’s time to go</td>\n",
       "      <td>17</td>\n",
       "      <td>You know, you know, you know, you know</td>\n",
       "      <td>50</td>\n",
       "    </tr>\n",
       "    <tr>\n",
       "      <th>8354</th>\n",
       "      <td>evermore (deluxe version)</td>\n",
       "      <td>​it’s time to go</td>\n",
       "      <td>17</td>\n",
       "      <td>When it's time to go</td>\n",
       "      <td>51</td>\n",
       "    </tr>\n",
       "    <tr>\n",
       "      <th>8355</th>\n",
       "      <td>evermore (deluxe version)</td>\n",
       "      <td>​it’s time to go</td>\n",
       "      <td>17</td>\n",
       "      <td>So then you go</td>\n",
       "      <td>52</td>\n",
       "    </tr>\n",
       "    <tr>\n",
       "      <th>8356</th>\n",
       "      <td>evermore (deluxe version)</td>\n",
       "      <td>​it’s time to go</td>\n",
       "      <td>17</td>\n",
       "      <td>Then you go</td>\n",
       "      <td>53</td>\n",
       "    </tr>\n",
       "    <tr>\n",
       "      <th>8357</th>\n",
       "      <td>evermore (deluxe version)</td>\n",
       "      <td>​it’s time to go</td>\n",
       "      <td>17</td>\n",
       "      <td>You just go</td>\n",
       "      <td>54</td>\n",
       "    </tr>\n",
       "  </tbody>\n",
       "</table>\n",
       "<p>8358 rows × 5 columns</p>\n",
       "</div>"
      ],
      "text/plain": [
       "                     album_name       track_title  track_n  \\\n",
       "0                  Taylor Swift        Tim McGraw        1   \n",
       "1                  Taylor Swift        Tim McGraw        1   \n",
       "2                  Taylor Swift        Tim McGraw        1   \n",
       "3                  Taylor Swift        Tim McGraw        1   \n",
       "4                  Taylor Swift        Tim McGraw        1   \n",
       "...                         ...               ...      ...   \n",
       "8353  evermore (deluxe version)  ​it’s time to go       17   \n",
       "8354  evermore (deluxe version)  ​it’s time to go       17   \n",
       "8355  evermore (deluxe version)  ​it’s time to go       17   \n",
       "8356  evermore (deluxe version)  ​it’s time to go       17   \n",
       "8357  evermore (deluxe version)  ​it’s time to go       17   \n",
       "\n",
       "                                            lyric  line  \n",
       "0             He said the way my blue eyes shined     1  \n",
       "1     Put those Georgia stars to shame that night     2  \n",
       "2                          I said, \"That's a lie\"     3  \n",
       "3                     Just a boy in a Chevy truck     4  \n",
       "4            That had a tendency of gettin' stuck     5  \n",
       "...                                           ...   ...  \n",
       "8353       You know, you know, you know, you know    50  \n",
       "8354                         When it's time to go    51  \n",
       "8355                               So then you go    52  \n",
       "8356                                  Then you go    53  \n",
       "8357                                  You just go    54  \n",
       "\n",
       "[8358 rows x 5 columns]"
      ]
     },
     "execution_count": 11,
     "metadata": {},
     "output_type": "execute_result"
    }
   ],
   "source": [
    "songs"
   ]
  },
  {
   "cell_type": "code",
   "execution_count": null,
   "metadata": {},
   "outputs": [],
   "source": []
  },
  {
   "cell_type": "markdown",
   "metadata": {},
   "source": [
    "## Data Cleaning"
   ]
  },
  {
   "cell_type": "code",
   "execution_count": 12,
   "metadata": {},
   "outputs": [
    {
     "data": {
      "text/html": [
       "<div>\n",
       "<style scoped>\n",
       "    .dataframe tbody tr th:only-of-type {\n",
       "        vertical-align: middle;\n",
       "    }\n",
       "\n",
       "    .dataframe tbody tr th {\n",
       "        vertical-align: top;\n",
       "    }\n",
       "\n",
       "    .dataframe thead th {\n",
       "        text-align: right;\n",
       "    }\n",
       "</style>\n",
       "<table border=\"1\" class=\"dataframe\">\n",
       "  <thead>\n",
       "    <tr style=\"text-align: right;\">\n",
       "      <th></th>\n",
       "      <th>album_name</th>\n",
       "      <th>track_title</th>\n",
       "      <th>lyric</th>\n",
       "    </tr>\n",
       "  </thead>\n",
       "  <tbody>\n",
       "    <tr>\n",
       "      <th>0</th>\n",
       "      <td>1989 (Deluxe)</td>\n",
       "      <td>All You Had to Do Was Stay</td>\n",
       "      <td>(Hey, hey, hey) (Hey, hey, hey) (Hey, hey, hey...</td>\n",
       "    </tr>\n",
       "    <tr>\n",
       "      <th>1</th>\n",
       "      <td>1989 (Deluxe)</td>\n",
       "      <td>Bad Blood</td>\n",
       "      <td>'Cause baby, now we've got bad blood You know ...</td>\n",
       "    </tr>\n",
       "    <tr>\n",
       "      <th>2</th>\n",
       "      <td>1989 (Deluxe)</td>\n",
       "      <td>Blank Space</td>\n",
       "      <td>Nice to meet you, where you been? I could show...</td>\n",
       "    </tr>\n",
       "    <tr>\n",
       "      <th>3</th>\n",
       "      <td>1989 (Deluxe)</td>\n",
       "      <td>Clean</td>\n",
       "      <td>The drought was the very worst (Oh-oh, oh-oh) ...</td>\n",
       "    </tr>\n",
       "    <tr>\n",
       "      <th>4</th>\n",
       "      <td>1989 (Deluxe)</td>\n",
       "      <td>How You Get the Girl</td>\n",
       "      <td>Oh, oh, oh Oh, oh, oh Oh-oh, oh-oh Stand there...</td>\n",
       "    </tr>\n",
       "    <tr>\n",
       "      <th>...</th>\n",
       "      <td>...</td>\n",
       "      <td>...</td>\n",
       "      <td>...</td>\n",
       "    </tr>\n",
       "    <tr>\n",
       "      <th>158</th>\n",
       "      <td>reputation</td>\n",
       "      <td>King of My Heart</td>\n",
       "      <td>I'm perfectly fine, I live on my own I made up...</td>\n",
       "    </tr>\n",
       "    <tr>\n",
       "      <th>159</th>\n",
       "      <td>reputation</td>\n",
       "      <td>Look What You Made Me Do</td>\n",
       "      <td>I don't like your little games Don't like your...</td>\n",
       "    </tr>\n",
       "    <tr>\n",
       "      <th>160</th>\n",
       "      <td>reputation</td>\n",
       "      <td>New Year’s Day</td>\n",
       "      <td>There's glitter on the floor after the party G...</td>\n",
       "    </tr>\n",
       "    <tr>\n",
       "      <th>161</th>\n",
       "      <td>reputation</td>\n",
       "      <td>So It Goes...</td>\n",
       "      <td>See you in the dark All eyes on you, my magici...</td>\n",
       "    </tr>\n",
       "    <tr>\n",
       "      <th>162</th>\n",
       "      <td>reputation</td>\n",
       "      <td>This Is Why We Can’t Have Nice Things</td>\n",
       "      <td>It was so nice throwing big parties Jump into ...</td>\n",
       "    </tr>\n",
       "  </tbody>\n",
       "</table>\n",
       "<p>163 rows × 3 columns</p>\n",
       "</div>"
      ],
      "text/plain": [
       "        album_name                            track_title  \\\n",
       "0    1989 (Deluxe)             All You Had to Do Was Stay   \n",
       "1    1989 (Deluxe)                              Bad Blood   \n",
       "2    1989 (Deluxe)                            Blank Space   \n",
       "3    1989 (Deluxe)                                  Clean   \n",
       "4    1989 (Deluxe)                   How You Get the Girl   \n",
       "..             ...                                    ...   \n",
       "158     reputation                       King of My Heart   \n",
       "159     reputation               Look What You Made Me Do   \n",
       "160     reputation                         New Year’s Day   \n",
       "161     reputation                          So It Goes...   \n",
       "162     reputation  This Is Why We Can’t Have Nice Things   \n",
       "\n",
       "                                                 lyric  \n",
       "0    (Hey, hey, hey) (Hey, hey, hey) (Hey, hey, hey...  \n",
       "1    'Cause baby, now we've got bad blood You know ...  \n",
       "2    Nice to meet you, where you been? I could show...  \n",
       "3    The drought was the very worst (Oh-oh, oh-oh) ...  \n",
       "4    Oh, oh, oh Oh, oh, oh Oh-oh, oh-oh Stand there...  \n",
       "..                                                 ...  \n",
       "158  I'm perfectly fine, I live on my own I made up...  \n",
       "159  I don't like your little games Don't like your...  \n",
       "160  There's glitter on the floor after the party G...  \n",
       "161  See you in the dark All eyes on you, my magici...  \n",
       "162  It was so nice throwing big parties Jump into ...  \n",
       "\n",
       "[163 rows x 3 columns]"
      ]
     },
     "execution_count": 12,
     "metadata": {},
     "output_type": "execute_result"
    }
   ],
   "source": [
    "# Grouping all lines of a song together\n",
    "songs1 = songs.groupby(['album_name','track_title'], as_index=False).agg({'track_title' : 'first', 'lyric' : ' '.join})\n",
    "songs1"
   ]
  },
  {
   "cell_type": "markdown",
   "metadata": {},
   "source": [
    "#### Noise Removal and Text Normalization"
   ]
  },
  {
   "cell_type": "code",
   "execution_count": 13,
   "metadata": {},
   "outputs": [],
   "source": [
    "#lowercasing\n",
    "songs1['lyric'] = songs1['lyric'].str.lower()"
   ]
  },
  {
   "cell_type": "code",
   "execution_count": 14,
   "metadata": {},
   "outputs": [],
   "source": [
    "# removing punctuation\n",
    "songs1['lyric'] = songs1['lyric'].str.replace(r'[^\\w\\s]+', '', regex=True)"
   ]
  },
  {
   "cell_type": "code",
   "execution_count": 15,
   "metadata": {},
   "outputs": [],
   "source": [
    "# removing stopwords\n",
    "from nltk.corpus import stopwords \n",
    "stop_words = set(stopwords.words('english')) \n",
    "tstop_words = ['oh', 'ah', 'ohoh', 'eh', 'yeah', 'i', 'ii','ohohoh', 'shes', 'hes', 'ill', 'youre', 'youd', 'hey', 'id', 'im', 'like', 'whoa', 'ooh', 'youll', 'said', 'say', 'know', 'knew']\n",
    "songs1['lyric'] = songs1['lyric'].apply(lambda x: ' '.join([word for word in x.split() if word not in (stop_words)]))\n",
    "songs1['lyric'] = songs1['lyric'].apply(lambda x: ' '.join([word for word in x.split() if word not in (tstop_words)]))"
   ]
  },
  {
   "cell_type": "code",
   "execution_count": 16,
   "metadata": {},
   "outputs": [
    {
     "data": {
      "text/plain": [
       "'people always want back love gave away people wanna believe youve changed think less drove us road stay stay palm hand whyd go lock let stay want back late well couldve easy stay stay stay stay stay calling dont ive picking pieces mess made people always want back love pushed aside people gone forever goodbye stay stay palm hand whyd go lock let stay want back late well couldve easy stay stay stay stay stay stay stay stay let remind wanted ended wanted stay stay palm hand whyd want go lock let stay want back late well couldve easy stay stay palm hand whyd go lock let stay want back late well couldve easy stay stay stay stay stay stay'"
      ]
     },
     "execution_count": 16,
     "metadata": {},
     "output_type": "execute_result"
    }
   ],
   "source": [
    "songs1['lyric'][0]"
   ]
  },
  {
   "cell_type": "code",
   "execution_count": 17,
   "metadata": {},
   "outputs": [],
   "source": [
    "# Tokenization\n",
    "from nltk.tokenize import word_tokenize\n",
    "songs2 = songs1.copy()\n",
    "#songs2['lyric'] = songs2.apply(lambda row: nltk.word_tokenize(row['lyric']), axis=1)"
   ]
  },
  {
   "cell_type": "markdown",
   "metadata": {},
   "source": [
    "## tf-idf Model"
   ]
  },
  {
   "cell_type": "code",
   "execution_count": 18,
   "metadata": {},
   "outputs": [
    {
     "name": "stdout",
     "output_type": "stream",
     "text": [
      "['away', 'believe', 'dont', 'forever', 'gave', 'gone', 'goodbye', 'hand', 'ive', 'late', 'let', 'love', 'people', 'road', 'stay', 'think', 'wanna', 'want', 'wanted', 'youve']\n"
     ]
    }
   ],
   "source": [
    "from sklearn.feature_extraction.text import TfidfVectorizer\n",
    "vectorizer = TfidfVectorizer( \n",
    "                                lowercase=True,\n",
    "                                max_df=0.75,\n",
    "                                min_df=10,\n",
    "                                stop_words= 'english'\n",
    "                            )\n",
    "vectors = vectorizer.fit_transform(songs2['lyric'])\n",
    "feature_names = vectorizer.get_feature_names_out()\n",
    "dense = vectors.todense()\n",
    "denselist = dense.tolist()\n",
    "\n",
    "all_keywords = []\n",
    "\n",
    "for lyrics in denselist:\n",
    "    x = 0\n",
    "    keywords = []\n",
    "    for word in lyrics:\n",
    "        if word > 0:\n",
    "            keywords.append(feature_names[x])\n",
    "        x = x+1\n",
    "    all_keywords.append(keywords)\n",
    "\n",
    "print(all_keywords[0])\n"
   ]
  },
  {
   "cell_type": "markdown",
   "metadata": {},
   "source": [
    "## Non-Negative Matrix Factorization (Topic Modeling)"
   ]
  },
  {
   "cell_type": "code",
   "execution_count": 19,
   "metadata": {},
   "outputs": [
    {
     "name": "stderr",
     "output_type": "stream",
     "text": [
      "c:\\Users\\jcr\\anaconda3\\lib\\site-packages\\sklearn\\decomposition\\_nmf.py:1692: ConvergenceWarning: Maximum number of iterations 200 reached. Increase it to improve convergence.\n",
      "  warnings.warn(\n"
     ]
    },
    {
     "data": {
      "text/html": [
       "<style>#sk-container-id-1 {color: black;background-color: white;}#sk-container-id-1 pre{padding: 0;}#sk-container-id-1 div.sk-toggleable {background-color: white;}#sk-container-id-1 label.sk-toggleable__label {cursor: pointer;display: block;width: 100%;margin-bottom: 0;padding: 0.3em;box-sizing: border-box;text-align: center;}#sk-container-id-1 label.sk-toggleable__label-arrow:before {content: \"▸\";float: left;margin-right: 0.25em;color: #696969;}#sk-container-id-1 label.sk-toggleable__label-arrow:hover:before {color: black;}#sk-container-id-1 div.sk-estimator:hover label.sk-toggleable__label-arrow:before {color: black;}#sk-container-id-1 div.sk-toggleable__content {max-height: 0;max-width: 0;overflow: hidden;text-align: left;background-color: #f0f8ff;}#sk-container-id-1 div.sk-toggleable__content pre {margin: 0.2em;color: black;border-radius: 0.25em;background-color: #f0f8ff;}#sk-container-id-1 input.sk-toggleable__control:checked~div.sk-toggleable__content {max-height: 200px;max-width: 100%;overflow: auto;}#sk-container-id-1 input.sk-toggleable__control:checked~label.sk-toggleable__label-arrow:before {content: \"▾\";}#sk-container-id-1 div.sk-estimator input.sk-toggleable__control:checked~label.sk-toggleable__label {background-color: #d4ebff;}#sk-container-id-1 div.sk-label input.sk-toggleable__control:checked~label.sk-toggleable__label {background-color: #d4ebff;}#sk-container-id-1 input.sk-hidden--visually {border: 0;clip: rect(1px 1px 1px 1px);clip: rect(1px, 1px, 1px, 1px);height: 1px;margin: -1px;overflow: hidden;padding: 0;position: absolute;width: 1px;}#sk-container-id-1 div.sk-estimator {font-family: monospace;background-color: #f0f8ff;border: 1px dotted black;border-radius: 0.25em;box-sizing: border-box;margin-bottom: 0.5em;}#sk-container-id-1 div.sk-estimator:hover {background-color: #d4ebff;}#sk-container-id-1 div.sk-parallel-item::after {content: \"\";width: 100%;border-bottom: 1px solid gray;flex-grow: 1;}#sk-container-id-1 div.sk-label:hover label.sk-toggleable__label {background-color: #d4ebff;}#sk-container-id-1 div.sk-serial::before {content: \"\";position: absolute;border-left: 1px solid gray;box-sizing: border-box;top: 0;bottom: 0;left: 50%;z-index: 0;}#sk-container-id-1 div.sk-serial {display: flex;flex-direction: column;align-items: center;background-color: white;padding-right: 0.2em;padding-left: 0.2em;position: relative;}#sk-container-id-1 div.sk-item {position: relative;z-index: 1;}#sk-container-id-1 div.sk-parallel {display: flex;align-items: stretch;justify-content: center;background-color: white;position: relative;}#sk-container-id-1 div.sk-item::before, #sk-container-id-1 div.sk-parallel-item::before {content: \"\";position: absolute;border-left: 1px solid gray;box-sizing: border-box;top: 0;bottom: 0;left: 50%;z-index: -1;}#sk-container-id-1 div.sk-parallel-item {display: flex;flex-direction: column;z-index: 1;position: relative;background-color: white;}#sk-container-id-1 div.sk-parallel-item:first-child::after {align-self: flex-end;width: 50%;}#sk-container-id-1 div.sk-parallel-item:last-child::after {align-self: flex-start;width: 50%;}#sk-container-id-1 div.sk-parallel-item:only-child::after {width: 0;}#sk-container-id-1 div.sk-dashed-wrapped {border: 1px dashed gray;margin: 0 0.4em 0.5em 0.4em;box-sizing: border-box;padding-bottom: 0.4em;background-color: white;}#sk-container-id-1 div.sk-label label {font-family: monospace;font-weight: bold;display: inline-block;line-height: 1.2em;}#sk-container-id-1 div.sk-label-container {text-align: center;}#sk-container-id-1 div.sk-container {/* jupyter's `normalize.less` sets `[hidden] { display: none; }` but bootstrap.min.css set `[hidden] { display: none !important; }` so we also need the `!important` here to be able to override the default hidden behavior on the sphinx rendered scikit-learn.org. See: https://github.com/scikit-learn/scikit-learn/issues/21755 */display: inline-block !important;position: relative;}#sk-container-id-1 div.sk-text-repr-fallback {display: none;}</style><div id=\"sk-container-id-1\" class=\"sk-top-container\"><div class=\"sk-text-repr-fallback\"><pre>NMF(n_components=6)</pre><b>In a Jupyter environment, please rerun this cell to show the HTML representation or trust the notebook. <br />On GitHub, the HTML representation is unable to render, please try loading this page with nbviewer.org.</b></div><div class=\"sk-container\" hidden><div class=\"sk-item\"><div class=\"sk-estimator sk-toggleable\"><input class=\"sk-toggleable__control sk-hidden--visually\" id=\"sk-estimator-id-1\" type=\"checkbox\" checked><label for=\"sk-estimator-id-1\" class=\"sk-toggleable__label sk-toggleable__label-arrow\">NMF</label><div class=\"sk-toggleable__content\"><pre>NMF(n_components=6)</pre></div></div></div></div></div>"
      ],
      "text/plain": [
       "NMF(n_components=6)"
      ]
     },
     "execution_count": 19,
     "metadata": {},
     "output_type": "execute_result"
    }
   ],
   "source": [
    "from sklearn.decomposition import NMF\n",
    "nmf_model = NMF(n_components=6)\n",
    "nmf_model.fit(vectors)"
   ]
  },
  {
   "cell_type": "code",
   "execution_count": 20,
   "metadata": {},
   "outputs": [
    {
     "name": "stdout",
     "output_type": "stream",
     "text": [
      "Topic #0\n",
      "['gave', 'bad', 'remember', 'better', 'wishing', 'ive', 'goes', 'look', 'cause', 'right', 'thing', 'long', 'tell', 'got', 'time']\n",
      "\n",
      "\n",
      "Topic #1\n",
      "['meet', 'darling', 'night', 'let', 'wish', 'best', 'run', 'beautiful', 'look', 'dress', 'dancing', 'need', 'want', 'wanna', 'dont']\n",
      "\n",
      "\n",
      "Topic #2\n",
      "['play', 'things', 'touch', 'ive', 'eyes', 'lights', 'feel', 'baby', 'coming', 'beautiful', 'gonna', 'way', 'saw', 'good', 'love']\n",
      "\n",
      "\n",
      "Topic #3\n",
      "['little', 'kiss', 'way', 'feeling', 'friend', 'feel', 'new', 'got', 'rain', 'cause', 'gone', 'people', 'baby', 'thought', 'come']\n",
      "\n",
      "\n",
      "Topic #4\n",
      "['hand', 'hate', 'trying', 'forever', 'rain', 'bad', 'cause', 'waiting', 'fun', 'gonna', 'man', 'girl', 'want', 'baby', 'thats']\n",
      "\n",
      "\n",
      "Topic #5\n",
      "['drive', 'things', 'known', 'gone', 'night', 'shine', 'away', 'better', 'mind', 'forever', 'didnt', 'hope', 'stay', 'home', 'think']\n",
      "\n",
      "\n"
     ]
    }
   ],
   "source": [
    "# generating topics\n",
    "for index,topic in enumerate(nmf_model.components_):\n",
    "    print(f'Topic #{index}')\n",
    "    print([vectorizer.get_feature_names_out()[i] for i in topic.argsort()[-15:]])\n",
    "    print('\\n')"
   ]
  },
  {
   "cell_type": "code",
   "execution_count": 21,
   "metadata": {},
   "outputs": [],
   "source": [
    "# Creating topic column\n",
    "topic_results = nmf_model.transform(vectors)\n",
    "songs2['topic'] = topic_results.argmax(axis=1)"
   ]
  },
  {
   "cell_type": "code",
   "execution_count": 22,
   "metadata": {},
   "outputs": [
    {
     "data": {
      "text/html": [
       "<div>\n",
       "<style scoped>\n",
       "    .dataframe tbody tr th:only-of-type {\n",
       "        vertical-align: middle;\n",
       "    }\n",
       "\n",
       "    .dataframe tbody tr th {\n",
       "        vertical-align: top;\n",
       "    }\n",
       "\n",
       "    .dataframe thead th {\n",
       "        text-align: right;\n",
       "    }\n",
       "</style>\n",
       "<table border=\"1\" class=\"dataframe\">\n",
       "  <thead>\n",
       "    <tr style=\"text-align: right;\">\n",
       "      <th></th>\n",
       "      <th>0</th>\n",
       "      <th>1</th>\n",
       "      <th>2</th>\n",
       "      <th>3</th>\n",
       "      <th>4</th>\n",
       "      <th>5</th>\n",
       "    </tr>\n",
       "  </thead>\n",
       "  <tbody>\n",
       "    <tr>\n",
       "      <th>0</th>\n",
       "      <td>0.000000</td>\n",
       "      <td>0.025545</td>\n",
       "      <td>0.000000</td>\n",
       "      <td>0.000000</td>\n",
       "      <td>0.011568</td>\n",
       "      <td>0.283404</td>\n",
       "    </tr>\n",
       "    <tr>\n",
       "      <th>1</th>\n",
       "      <td>0.156632</td>\n",
       "      <td>0.024237</td>\n",
       "      <td>0.083202</td>\n",
       "      <td>0.038309</td>\n",
       "      <td>0.104275</td>\n",
       "      <td>0.072290</td>\n",
       "    </tr>\n",
       "    <tr>\n",
       "      <th>2</th>\n",
       "      <td>0.166969</td>\n",
       "      <td>0.043687</td>\n",
       "      <td>0.237297</td>\n",
       "      <td>0.083198</td>\n",
       "      <td>0.076911</td>\n",
       "      <td>0.000000</td>\n",
       "    </tr>\n",
       "    <tr>\n",
       "      <th>3</th>\n",
       "      <td>0.000000</td>\n",
       "      <td>0.009926</td>\n",
       "      <td>0.000000</td>\n",
       "      <td>0.026755</td>\n",
       "      <td>0.189390</td>\n",
       "      <td>0.272520</td>\n",
       "    </tr>\n",
       "    <tr>\n",
       "      <th>4</th>\n",
       "      <td>0.000000</td>\n",
       "      <td>0.000000</td>\n",
       "      <td>0.000000</td>\n",
       "      <td>0.000000</td>\n",
       "      <td>0.545587</td>\n",
       "      <td>0.000000</td>\n",
       "    </tr>\n",
       "    <tr>\n",
       "      <th>...</th>\n",
       "      <td>...</td>\n",
       "      <td>...</td>\n",
       "      <td>...</td>\n",
       "      <td>...</td>\n",
       "      <td>...</td>\n",
       "      <td>...</td>\n",
       "    </tr>\n",
       "    <tr>\n",
       "      <th>158</th>\n",
       "      <td>0.011129</td>\n",
       "      <td>0.028693</td>\n",
       "      <td>0.064836</td>\n",
       "      <td>0.023326</td>\n",
       "      <td>0.101868</td>\n",
       "      <td>0.000000</td>\n",
       "    </tr>\n",
       "    <tr>\n",
       "      <th>159</th>\n",
       "      <td>0.123685</td>\n",
       "      <td>0.121870</td>\n",
       "      <td>0.000000</td>\n",
       "      <td>0.000000</td>\n",
       "      <td>0.000000</td>\n",
       "      <td>0.000000</td>\n",
       "    </tr>\n",
       "    <tr>\n",
       "      <th>160</th>\n",
       "      <td>0.037817</td>\n",
       "      <td>0.116767</td>\n",
       "      <td>0.000000</td>\n",
       "      <td>0.000000</td>\n",
       "      <td>0.028109</td>\n",
       "      <td>0.046818</td>\n",
       "    </tr>\n",
       "    <tr>\n",
       "      <th>161</th>\n",
       "      <td>0.113213</td>\n",
       "      <td>0.000000</td>\n",
       "      <td>0.018440</td>\n",
       "      <td>0.111304</td>\n",
       "      <td>0.111497</td>\n",
       "      <td>0.000000</td>\n",
       "    </tr>\n",
       "    <tr>\n",
       "      <th>162</th>\n",
       "      <td>0.009721</td>\n",
       "      <td>0.062289</td>\n",
       "      <td>0.031593</td>\n",
       "      <td>0.020319</td>\n",
       "      <td>0.059930</td>\n",
       "      <td>0.194664</td>\n",
       "    </tr>\n",
       "  </tbody>\n",
       "</table>\n",
       "<p>163 rows × 6 columns</p>\n",
       "</div>"
      ],
      "text/plain": [
       "            0         1         2         3         4         5\n",
       "0    0.000000  0.025545  0.000000  0.000000  0.011568  0.283404\n",
       "1    0.156632  0.024237  0.083202  0.038309  0.104275  0.072290\n",
       "2    0.166969  0.043687  0.237297  0.083198  0.076911  0.000000\n",
       "3    0.000000  0.009926  0.000000  0.026755  0.189390  0.272520\n",
       "4    0.000000  0.000000  0.000000  0.000000  0.545587  0.000000\n",
       "..        ...       ...       ...       ...       ...       ...\n",
       "158  0.011129  0.028693  0.064836  0.023326  0.101868  0.000000\n",
       "159  0.123685  0.121870  0.000000  0.000000  0.000000  0.000000\n",
       "160  0.037817  0.116767  0.000000  0.000000  0.028109  0.046818\n",
       "161  0.113213  0.000000  0.018440  0.111304  0.111497  0.000000\n",
       "162  0.009721  0.062289  0.031593  0.020319  0.059930  0.194664\n",
       "\n",
       "[163 rows x 6 columns]"
      ]
     },
     "execution_count": 22,
     "metadata": {},
     "output_type": "execute_result"
    }
   ],
   "source": [
    "topic_array = pd.DataFrame(topic_results)\n",
    "topic_array"
   ]
  },
  {
   "cell_type": "code",
   "execution_count": 23,
   "metadata": {},
   "outputs": [
    {
     "data": {
      "text/html": [
       "<div>\n",
       "<style scoped>\n",
       "    .dataframe tbody tr th:only-of-type {\n",
       "        vertical-align: middle;\n",
       "    }\n",
       "\n",
       "    .dataframe tbody tr th {\n",
       "        vertical-align: top;\n",
       "    }\n",
       "\n",
       "    .dataframe thead th {\n",
       "        text-align: right;\n",
       "    }\n",
       "</style>\n",
       "<table border=\"1\" class=\"dataframe\">\n",
       "  <thead>\n",
       "    <tr style=\"text-align: right;\">\n",
       "      <th></th>\n",
       "      <th>0</th>\n",
       "      <th>1</th>\n",
       "      <th>2</th>\n",
       "      <th>3</th>\n",
       "      <th>4</th>\n",
       "      <th>5</th>\n",
       "    </tr>\n",
       "    <tr>\n",
       "      <th>track_title</th>\n",
       "      <th></th>\n",
       "      <th></th>\n",
       "      <th></th>\n",
       "      <th></th>\n",
       "      <th></th>\n",
       "      <th></th>\n",
       "    </tr>\n",
       "  </thead>\n",
       "  <tbody>\n",
       "    <tr>\n",
       "      <th>All You Had to Do Was Stay</th>\n",
       "      <td>0.000000</td>\n",
       "      <td>0.025545</td>\n",
       "      <td>0.000000</td>\n",
       "      <td>0.000000</td>\n",
       "      <td>0.011568</td>\n",
       "      <td>0.283404</td>\n",
       "    </tr>\n",
       "    <tr>\n",
       "      <th>Bad Blood</th>\n",
       "      <td>0.156632</td>\n",
       "      <td>0.024237</td>\n",
       "      <td>0.083202</td>\n",
       "      <td>0.038309</td>\n",
       "      <td>0.104275</td>\n",
       "      <td>0.072290</td>\n",
       "    </tr>\n",
       "    <tr>\n",
       "      <th>Blank Space</th>\n",
       "      <td>0.166969</td>\n",
       "      <td>0.043687</td>\n",
       "      <td>0.237297</td>\n",
       "      <td>0.083198</td>\n",
       "      <td>0.076911</td>\n",
       "      <td>0.000000</td>\n",
       "    </tr>\n",
       "    <tr>\n",
       "      <th>Clean</th>\n",
       "      <td>0.000000</td>\n",
       "      <td>0.009926</td>\n",
       "      <td>0.000000</td>\n",
       "      <td>0.026755</td>\n",
       "      <td>0.189390</td>\n",
       "      <td>0.272520</td>\n",
       "    </tr>\n",
       "    <tr>\n",
       "      <th>How You Get the Girl</th>\n",
       "      <td>0.000000</td>\n",
       "      <td>0.000000</td>\n",
       "      <td>0.000000</td>\n",
       "      <td>0.000000</td>\n",
       "      <td>0.545587</td>\n",
       "      <td>0.000000</td>\n",
       "    </tr>\n",
       "    <tr>\n",
       "      <th>...</th>\n",
       "      <td>...</td>\n",
       "      <td>...</td>\n",
       "      <td>...</td>\n",
       "      <td>...</td>\n",
       "      <td>...</td>\n",
       "      <td>...</td>\n",
       "    </tr>\n",
       "    <tr>\n",
       "      <th>King of My Heart</th>\n",
       "      <td>0.011129</td>\n",
       "      <td>0.028693</td>\n",
       "      <td>0.064836</td>\n",
       "      <td>0.023326</td>\n",
       "      <td>0.101868</td>\n",
       "      <td>0.000000</td>\n",
       "    </tr>\n",
       "    <tr>\n",
       "      <th>Look What You Made Me Do</th>\n",
       "      <td>0.123685</td>\n",
       "      <td>0.121870</td>\n",
       "      <td>0.000000</td>\n",
       "      <td>0.000000</td>\n",
       "      <td>0.000000</td>\n",
       "      <td>0.000000</td>\n",
       "    </tr>\n",
       "    <tr>\n",
       "      <th>New Year’s Day</th>\n",
       "      <td>0.037817</td>\n",
       "      <td>0.116767</td>\n",
       "      <td>0.000000</td>\n",
       "      <td>0.000000</td>\n",
       "      <td>0.028109</td>\n",
       "      <td>0.046818</td>\n",
       "    </tr>\n",
       "    <tr>\n",
       "      <th>So It Goes...</th>\n",
       "      <td>0.113213</td>\n",
       "      <td>0.000000</td>\n",
       "      <td>0.018440</td>\n",
       "      <td>0.111304</td>\n",
       "      <td>0.111497</td>\n",
       "      <td>0.000000</td>\n",
       "    </tr>\n",
       "    <tr>\n",
       "      <th>This Is Why We Can’t Have Nice Things</th>\n",
       "      <td>0.009721</td>\n",
       "      <td>0.062289</td>\n",
       "      <td>0.031593</td>\n",
       "      <td>0.020319</td>\n",
       "      <td>0.059930</td>\n",
       "      <td>0.194664</td>\n",
       "    </tr>\n",
       "  </tbody>\n",
       "</table>\n",
       "<p>163 rows × 6 columns</p>\n",
       "</div>"
      ],
      "text/plain": [
       "                                              0         1         2         3  \\\n",
       "track_title                                                                     \n",
       "All You Had to Do Was Stay             0.000000  0.025545  0.000000  0.000000   \n",
       "Bad Blood                              0.156632  0.024237  0.083202  0.038309   \n",
       "Blank Space                            0.166969  0.043687  0.237297  0.083198   \n",
       "Clean                                  0.000000  0.009926  0.000000  0.026755   \n",
       "How You Get the Girl                   0.000000  0.000000  0.000000  0.000000   \n",
       "...                                         ...       ...       ...       ...   \n",
       "King of My Heart                       0.011129  0.028693  0.064836  0.023326   \n",
       "Look What You Made Me Do               0.123685  0.121870  0.000000  0.000000   \n",
       "New Year’s Day                         0.037817  0.116767  0.000000  0.000000   \n",
       "So It Goes...                          0.113213  0.000000  0.018440  0.111304   \n",
       "This Is Why We Can’t Have Nice Things  0.009721  0.062289  0.031593  0.020319   \n",
       "\n",
       "                                              4         5  \n",
       "track_title                                                \n",
       "All You Had to Do Was Stay             0.011568  0.283404  \n",
       "Bad Blood                              0.104275  0.072290  \n",
       "Blank Space                            0.076911  0.000000  \n",
       "Clean                                  0.189390  0.272520  \n",
       "How You Get the Girl                   0.545587  0.000000  \n",
       "...                                         ...       ...  \n",
       "King of My Heart                       0.101868  0.000000  \n",
       "Look What You Made Me Do               0.000000  0.000000  \n",
       "New Year’s Day                         0.028109  0.046818  \n",
       "So It Goes...                          0.111497  0.000000  \n",
       "This Is Why We Can’t Have Nice Things  0.059930  0.194664  \n",
       "\n",
       "[163 rows x 6 columns]"
      ]
     },
     "execution_count": 23,
     "metadata": {},
     "output_type": "execute_result"
    }
   ],
   "source": [
    "track = songs2['track_title']\n",
    "topics_tracks = pd.concat([topic_array, track], axis=1)\n",
    "topics_tracks.set_index('track_title')"
   ]
  },
  {
   "cell_type": "code",
   "execution_count": 24,
   "metadata": {},
   "outputs": [],
   "source": [
    "# creating topic labels\n",
    "topic_dict = {0: 'Threatening/Powerful', 1: 'Dancing', 2: 'Love/Beauty', 3: 'Romantic', 4: 'Desire', 5: 'Loss/Vulnerability'}\n",
    "songs2['topic label'] = songs2['topic'].map(topic_dict)"
   ]
  },
  {
   "cell_type": "code",
   "execution_count": 25,
   "metadata": {},
   "outputs": [
    {
     "data": {
      "text/html": [
       "<div>\n",
       "<style scoped>\n",
       "    .dataframe tbody tr th:only-of-type {\n",
       "        vertical-align: middle;\n",
       "    }\n",
       "\n",
       "    .dataframe tbody tr th {\n",
       "        vertical-align: top;\n",
       "    }\n",
       "\n",
       "    .dataframe thead th {\n",
       "        text-align: right;\n",
       "    }\n",
       "</style>\n",
       "<table border=\"1\" class=\"dataframe\">\n",
       "  <thead>\n",
       "    <tr style=\"text-align: right;\">\n",
       "      <th></th>\n",
       "      <th>album_name</th>\n",
       "      <th>track_title</th>\n",
       "      <th>lyric</th>\n",
       "      <th>topic</th>\n",
       "      <th>topic label</th>\n",
       "    </tr>\n",
       "  </thead>\n",
       "  <tbody>\n",
       "    <tr>\n",
       "      <th>0</th>\n",
       "      <td>1989 (Deluxe)</td>\n",
       "      <td>All You Had to Do Was Stay</td>\n",
       "      <td>people always want back love gave away people ...</td>\n",
       "      <td>5</td>\n",
       "      <td>Loss/Vulnerability</td>\n",
       "    </tr>\n",
       "    <tr>\n",
       "      <th>1</th>\n",
       "      <td>1989 (Deluxe)</td>\n",
       "      <td>Bad Blood</td>\n",
       "      <td>cause baby weve got bad blood used mad love ta...</td>\n",
       "      <td>0</td>\n",
       "      <td>Threatening/Powerful</td>\n",
       "    </tr>\n",
       "    <tr>\n",
       "      <th>2</th>\n",
       "      <td>1989 (Deluxe)</td>\n",
       "      <td>Blank Space</td>\n",
       "      <td>nice meet could show incredible things magic m...</td>\n",
       "      <td>2</td>\n",
       "      <td>Love/Beauty</td>\n",
       "    </tr>\n",
       "    <tr>\n",
       "      <th>3</th>\n",
       "      <td>1989 (Deluxe)</td>\n",
       "      <td>Clean</td>\n",
       "      <td>drought worst flowers wed grown together died ...</td>\n",
       "      <td>5</td>\n",
       "      <td>Loss/Vulnerability</td>\n",
       "    </tr>\n",
       "    <tr>\n",
       "      <th>4</th>\n",
       "      <td>1989 (Deluxe)</td>\n",
       "      <td>How You Get the Girl</td>\n",
       "      <td>stand ghost shaking rain rain shell open door ...</td>\n",
       "      <td>4</td>\n",
       "      <td>Desire</td>\n",
       "    </tr>\n",
       "    <tr>\n",
       "      <th>...</th>\n",
       "      <td>...</td>\n",
       "      <td>...</td>\n",
       "      <td>...</td>\n",
       "      <td>...</td>\n",
       "      <td>...</td>\n",
       "    </tr>\n",
       "    <tr>\n",
       "      <th>158</th>\n",
       "      <td>reputation</td>\n",
       "      <td>King of My Heart</td>\n",
       "      <td>perfectly fine live made mind better bein alon...</td>\n",
       "      <td>4</td>\n",
       "      <td>Desire</td>\n",
       "    </tr>\n",
       "    <tr>\n",
       "      <th>159</th>\n",
       "      <td>reputation</td>\n",
       "      <td>Look What You Made Me Do</td>\n",
       "      <td>dont little games dont tilted stage role made ...</td>\n",
       "      <td>0</td>\n",
       "      <td>Threatening/Powerful</td>\n",
       "    </tr>\n",
       "    <tr>\n",
       "      <th>160</th>\n",
       "      <td>reputation</td>\n",
       "      <td>New Year’s Day</td>\n",
       "      <td>theres glitter floor party girls carrying shoe...</td>\n",
       "      <td>1</td>\n",
       "      <td>Dancing</td>\n",
       "    </tr>\n",
       "    <tr>\n",
       "      <th>161</th>\n",
       "      <td>reputation</td>\n",
       "      <td>So It Goes...</td>\n",
       "      <td>see dark eyes magician eyes us make everyone d...</td>\n",
       "      <td>0</td>\n",
       "      <td>Threatening/Powerful</td>\n",
       "    </tr>\n",
       "    <tr>\n",
       "      <th>162</th>\n",
       "      <td>reputation</td>\n",
       "      <td>This Is Why We Can’t Have Nice Things</td>\n",
       "      <td>nice throwing big parties jump pool balcony ev...</td>\n",
       "      <td>5</td>\n",
       "      <td>Loss/Vulnerability</td>\n",
       "    </tr>\n",
       "  </tbody>\n",
       "</table>\n",
       "<p>163 rows × 5 columns</p>\n",
       "</div>"
      ],
      "text/plain": [
       "        album_name                            track_title  \\\n",
       "0    1989 (Deluxe)             All You Had to Do Was Stay   \n",
       "1    1989 (Deluxe)                              Bad Blood   \n",
       "2    1989 (Deluxe)                            Blank Space   \n",
       "3    1989 (Deluxe)                                  Clean   \n",
       "4    1989 (Deluxe)                   How You Get the Girl   \n",
       "..             ...                                    ...   \n",
       "158     reputation                       King of My Heart   \n",
       "159     reputation               Look What You Made Me Do   \n",
       "160     reputation                         New Year’s Day   \n",
       "161     reputation                          So It Goes...   \n",
       "162     reputation  This Is Why We Can’t Have Nice Things   \n",
       "\n",
       "                                                 lyric  topic  \\\n",
       "0    people always want back love gave away people ...      5   \n",
       "1    cause baby weve got bad blood used mad love ta...      0   \n",
       "2    nice meet could show incredible things magic m...      2   \n",
       "3    drought worst flowers wed grown together died ...      5   \n",
       "4    stand ghost shaking rain rain shell open door ...      4   \n",
       "..                                                 ...    ...   \n",
       "158  perfectly fine live made mind better bein alon...      4   \n",
       "159  dont little games dont tilted stage role made ...      0   \n",
       "160  theres glitter floor party girls carrying shoe...      1   \n",
       "161  see dark eyes magician eyes us make everyone d...      0   \n",
       "162  nice throwing big parties jump pool balcony ev...      5   \n",
       "\n",
       "              topic label  \n",
       "0      Loss/Vulnerability  \n",
       "1    Threatening/Powerful  \n",
       "2             Love/Beauty  \n",
       "3      Loss/Vulnerability  \n",
       "4                  Desire  \n",
       "..                    ...  \n",
       "158                Desire  \n",
       "159  Threatening/Powerful  \n",
       "160               Dancing  \n",
       "161  Threatening/Powerful  \n",
       "162    Loss/Vulnerability  \n",
       "\n",
       "[163 rows x 5 columns]"
      ]
     },
     "execution_count": 25,
     "metadata": {},
     "output_type": "execute_result"
    }
   ],
   "source": [
    "songs2"
   ]
  },
  {
   "cell_type": "code",
   "execution_count": 37,
   "metadata": {},
   "outputs": [],
   "source": [
    "album_years = pd.DataFrame([\n",
    "    [\"Taylor Swift\", 2006],\n",
    "    [\"Fearless (Taylor’s Version)\", 2008],\n",
    "    [\"Speak Now (Deluxe)\", 2010],\n",
    "    [\"Red (Deluxe Edition)\", 2012],\n",
    "    [\"1989 (Deluxe)\", 2014],\n",
    "    [\"reputation\", 2017],\n",
    "    [\"Lover\", 2019],\n",
    "    [\"folklore (deluxe version)\", 2020],\n",
    "    [\"evermore (deluxe version)\", 2020],\n",
    "    [\"Midnights\", 2022],\n",
    "], columns=[\"album_name\", \"year\"])\n",
    "\n",
    "p_df = (\n",
    "songs2\n",
    "    .merge(album_years, on=\"album_name\", how=\"left\")\n",
    "    .groupby([\"year\", \"topic label\"])\n",
    "    .agg(n_songs = (\"track_title\", \"count\"))\n",
    "    )"
   ]
  },
  {
   "cell_type": "code",
   "execution_count": 85,
   "metadata": {},
   "outputs": [
    {
     "data": {
      "image/png": "[encoded data removed]",
      "text/plain": [
       "<Figure size 640x480 with 1 Axes>"
      ]
     },
     "metadata": {},
     "output_type": "display_data"
    }
   ],
   "source": [
    "# create a line plot with seaborn\n",
    "import seaborn as sns\n",
    "import matplotlib.pyplot as plt\n",
    "\n",
    "\n",
    "sns.lineplot(data=p_df, x=\"year\", y=\"n_songs\", hue=\"topic label\", \n",
    "            alpha=0.2, palette=\"tab10\", legend=False)\n",
    "sns.scatterplot(data=p_df, x=\"year\", y=\"n_songs\", hue=\"topic label\", alpha=1)\n",
    "\n",
    "# remove the legend from the scatter plot\n",
    "plt.legend(bbox_to_anchor=(1.05, 1), loc=2, borderaxespad=0., title=\"Topic\", frameon=False)\n",
    "\n",
    "# add a label for the most popular topic for each year\n",
    "for year in p_df.index.get_level_values(\"year\").unique():\n",
    "    top_topic = p_df.loc[year].sort_values(\"n_songs\", ascending=False).index[0]\n",
    "    top_n = p_df.loc[year].sort_values(\"n_songs\", ascending=False).iloc[0, 0]\n",
    "    plt.text(\n",
    "        year, top_n + .2, top_topic,\n",
    "        horizontalalignment='center',\n",
    "        verticalalignment=\"bottom\",\n",
    "        color=\"black\",\n",
    "        fontsize=8,\n",
    "        )\n",
    "\n",
    "# tile songs topic over time\n",
    "plt.title(\"Tylor Swift's Songs Topics Over Time\")\n",
    "\n",
    "# xlabel title\n",
    "plt.xlabel(\"Year\")\n",
    "\n",
    "# ylabel title\n",
    "plt.ylabel(\"Number of Songs per Topic\")\n",
    "# remove grid lines\n",
    "plt.grid(False)\n",
    "sns.despine()\n",
    "\n",
    "plt.show()\n"
   ]
  },
  {
   "cell_type": "code",
   "execution_count": 103,
   "metadata": {},
   "outputs": [],
   "source": [
    "# plot = songs2.groupby('album_name')['topic label'].value_counts().to_frame()\n",
    "# plot"
   ]
  },
  {
   "cell_type": "markdown",
   "metadata": {},
   "source": [
    "## Create a bag of words"
   ]
  },
  {
   "cell_type": "code",
   "execution_count": 161,
   "metadata": {},
   "outputs": [
    {
     "name": "stderr",
     "output_type": "stream",
     "text": [
      "c:\\Users\\jcr\\anaconda3\\lib\\site-packages\\sklearn\\manifold\\_t_sne.py:805: FutureWarning: The default learning rate in TSNE will change from 200.0 to 'auto' in 1.2.\n",
      "  warnings.warn(\n"
     ]
    },
    {
     "name": "stdout",
     "output_type": "stream",
     "text": [
      "[t-SNE] Computing 91 nearest neighbors...\n",
      "[t-SNE] Indexed 163 samples in 0.001s...\n",
      "[t-SNE] Computed neighbors for 163 samples in 0.005s...\n",
      "[t-SNE] Computed conditional probabilities for sample 163 / 163\n",
      "[t-SNE] Mean sigma: 6.817547\n",
      "[t-SNE] KL divergence after 250 iterations with early exaggeration: 96.141533\n",
      "[t-SNE] KL divergence after 1000 iterations: 0.845427\n"
     ]
    },
    {
     "data": {
      "image/png": "[encoded data removed]",
      "text/plain": [
       "<Figure size 640x480 with 1 Axes>"
      ]
     },
     "metadata": {},
     "output_type": "display_data"
    }
   ],
   "source": [
    "# create a bag of words\n",
    "from matplotlib.ft2font import BOLD\n",
    "from sklearn.feature_extraction.text import CountVectorizer\n",
    "\n",
    "cv = CountVectorizer(max_df=0.85, stop_words='english')\n",
    "word_count_vector = cv.fit_transform(songs2['lyric'],)\n",
    "\n",
    "# plot a t-sne model\n",
    "from sklearn.manifold import TSNE\n",
    "\n",
    "tsne_model = TSNE(n_components=2, verbose=1, random_state=0, angle=.99, init='random')\n",
    "tsne_lda = tsne_model.fit_transform(word_count_vector)\n",
    "\n",
    "# create a dataframe\n",
    "tsne_lda_df = pd.DataFrame(tsne_lda, columns=['x', 'y'])\n",
    "tsne_lda_df['topic'] = songs2['topic label']\n",
    "\n",
    "# plot the t-sne model\n",
    "sns.scatterplot(x='x', y='y', hue=\"topic\", data=tsne_lda_df, palette=\"tab10\", alpha=0.3)\n",
    "\n",
    "# get topic centers from the nmf model\n",
    "topics_centers = (\n",
    "tsne_lda_df\n",
    "    .groupby(\"topic\")\n",
    "    .agg(x = (\"x\", \"mean\"), y = (\"y\", \"mean\"))\n",
    "    .reset_index()\n",
    ")\n",
    "# add topics centers to the plot\n",
    "sns.scatterplot(\n",
    "    x='x', y='y', \n",
    "    hue=\"topic\", \n",
    "    data=topics_centers, \n",
    "    s=100, legend=False)\n",
    "\n",
    "# title distance analysis of topics in relation to lyrics\n",
    "plt.title(\"Distance Analysis of Topics based on Lyrics\")\n",
    "\n",
    "# remove grid\n",
    "plt.grid(False)\n",
    "sns.despine()\n",
    "\n",
    "# move legend to the right\n",
    "plt.legend(frameon=False,\n",
    "            # position the legend on the bottom as row\n",
    "            loc='lower center',\n",
    "            # number of columns\n",
    "            ncol=3,\n",
    ")\n",
    "plt.show()\n",
    "\n"
   ]
  },
  {
   "cell_type": "code",
   "execution_count": 134,
   "metadata": {},
   "outputs": [
    {
     "data": {
      "text/html": [
       "<div>\n",
       "<style scoped>\n",
       "    .dataframe tbody tr th:only-of-type {\n",
       "        vertical-align: middle;\n",
       "    }\n",
       "\n",
       "    .dataframe tbody tr th {\n",
       "        vertical-align: top;\n",
       "    }\n",
       "\n",
       "    .dataframe thead th {\n",
       "        text-align: right;\n",
       "    }\n",
       "</style>\n",
       "<table border=\"1\" class=\"dataframe\">\n",
       "  <thead>\n",
       "    <tr style=\"text-align: right;\">\n",
       "      <th></th>\n",
       "      <th>x</th>\n",
       "      <th>y</th>\n",
       "    </tr>\n",
       "    <tr>\n",
       "      <th>topic</th>\n",
       "      <th></th>\n",
       "      <th></th>\n",
       "    </tr>\n",
       "  </thead>\n",
       "  <tbody>\n",
       "    <tr>\n",
       "      <th>Dancing</th>\n",
       "      <td>2.506242</td>\n",
       "      <td>-1.998657</td>\n",
       "    </tr>\n",
       "    <tr>\n",
       "      <th>Desire</th>\n",
       "      <td>1.063119</td>\n",
       "      <td>-1.051847</td>\n",
       "    </tr>\n",
       "    <tr>\n",
       "      <th>Loss/Vulnerability</th>\n",
       "      <td>0.553430</td>\n",
       "      <td>-2.191138</td>\n",
       "    </tr>\n",
       "    <tr>\n",
       "      <th>Love/Beauty</th>\n",
       "      <td>1.909482</td>\n",
       "      <td>-0.748469</td>\n",
       "    </tr>\n",
       "    <tr>\n",
       "      <th>Romantic</th>\n",
       "      <td>2.402627</td>\n",
       "      <td>-1.126973</td>\n",
       "    </tr>\n",
       "    <tr>\n",
       "      <th>Threatening/Powerful</th>\n",
       "      <td>0.954359</td>\n",
       "      <td>-2.315983</td>\n",
       "    </tr>\n",
       "  </tbody>\n",
       "</table>\n",
       "</div>"
      ],
      "text/plain": [
       "                             x         y\n",
       "topic                                   \n",
       "Dancing               2.506242 -1.998657\n",
       "Desire                1.063119 -1.051847\n",
       "Loss/Vulnerability    0.553430 -2.191138\n",
       "Love/Beauty           1.909482 -0.748469\n",
       "Romantic              2.402627 -1.126973\n",
       "Threatening/Powerful  0.954359 -2.315983"
      ]
     },
     "execution_count": 134,
     "metadata": {},
     "output_type": "execute_result"
    }
   ],
   "source": []
  },
  {
   "cell_type": "markdown",
   "metadata": {},
   "source": [
    "### Scattertext Plot"
   ]
  },
  {
   "cell_type": "markdown",
   "metadata": {},
   "source": [
    "Visualizes linguistic variation between albums. Each axis corresponds to the rank-frequency a term occurs in a category of documents."
   ]
  },
  {
   "cell_type": "code",
   "execution_count": 88,
   "metadata": {},
   "outputs": [],
   "source": [
    "import spacy\n",
    "from spacy import displacy\n",
    "from spacy.util import minibatch, compounding\n",
    "import scattertext as st\n",
    "nlp = spacy.load(\"en_core_web_sm\", disable=[\"lemmatizer\", 'tagger', 'ner'])\n",
    "songs2['parsed'] = songs2['lyric'].apply(nlp)"
   ]
  },
  {
   "cell_type": "code",
   "execution_count": null,
   "metadata": {},
   "outputs": [],
   "source": [
    "corpus = st.CorpusFromParsedDocuments(songs2,\n",
    "                             category_col='album_name',\n",
    "                             parsed_col='parsed').build()"
   ]
  },
  {
   "cell_type": "code",
   "execution_count": null,
   "metadata": {},
   "outputs": [],
   "source": [
    "html = st.produce_scattertext_explorer(corpus,\n",
    "          category='evermore (deluxe version)',\n",
    "          category_name='evermore (deluxe version)',\n",
    "          not_category_name='folklore (deluxe version)',\n",
    "          width_in_pixels=1000,\n",
    "          minimum_term_frequency=5,\n",
    "          transform=st.Scalers.dense_rank\n",
    "          )"
   ]
  },
  {
   "cell_type": "code",
   "execution_count": null,
   "metadata": {},
   "outputs": [],
   "source": [
    "file_name = 'ts.html'\n",
    "open(file_name, 'wb').write(html.encode('utf-8'))\n",
    "IFrame(src=file_name, width = 1000, height=1000)"
   ]
  },
  {
   "cell_type": "markdown",
   "metadata": {},
   "source": [
    "## Word2Vec (word embedding)"
   ]
  },
  {
   "cell_type": "markdown",
   "metadata": {},
   "source": [
    "Word2vec is a technique to learn word embeddings using a two-layer neural network. Its input is a text corpus and its output is a set of vectors. Word embedding via word2vec can make natural language computer-readable, then further implementation of mathematical operations on words can be used to detect their similarities. A well-trained set of word vectors will place similar words close to each other in that space. "
   ]
  },
  {
   "cell_type": "code",
   "execution_count": 82,
   "metadata": {},
   "outputs": [],
   "source": [
    "# open source python library for NLP\n",
    "import gensim"
   ]
  },
  {
   "cell_type": "code",
   "execution_count": 83,
   "metadata": {},
   "outputs": [],
   "source": [
    "# tokenize text \n",
    "songs2['lyric'] = songs2.apply(lambda row: nltk.word_tokenize(row['lyric']), axis=1)"
   ]
  },
  {
   "cell_type": "code",
   "execution_count": 84,
   "metadata": {},
   "outputs": [],
   "source": [
    "lyrics = songs2['lyric']"
   ]
  },
  {
   "cell_type": "markdown",
   "metadata": {},
   "source": [
    "#### Initialize the model"
   ]
  },
  {
   "cell_type": "code",
   "execution_count": 85,
   "metadata": {},
   "outputs": [],
   "source": [
    "model = gensim.models.Word2Vec(\n",
    "        window=10,\n",
    "        min_count=2,\n",
    ")"
   ]
  },
  {
   "cell_type": "markdown",
   "metadata": {},
   "source": [
    "#### Build Vocabulary"
   ]
  },
  {
   "cell_type": "code",
   "execution_count": 86,
   "metadata": {},
   "outputs": [],
   "source": [
    "model.build_vocab(lyrics)"
   ]
  },
  {
   "cell_type": "markdown",
   "metadata": {},
   "source": [
    "#### Train the Model"
   ]
  },
  {
   "cell_type": "code",
   "execution_count": 87,
   "metadata": {},
   "outputs": [
    {
     "data": {
      "text/plain": [
       "(109547, 132975)"
      ]
     },
     "execution_count": 87,
     "metadata": {},
     "output_type": "execute_result"
    }
   ],
   "source": [
    "model.train(lyrics, total_examples=model.corpus_count, epochs=model.epochs)"
   ]
  },
  {
   "cell_type": "code",
   "execution_count": 88,
   "metadata": {},
   "outputs": [
    {
     "data": {
      "text/plain": [
       "[('cause', 0.9997600317001343),\n",
       " ('eyes', 0.999732255935669),\n",
       " ('whole', 0.999727189540863),\n",
       " ('got', 0.9997147917747498),\n",
       " ('best', 0.9997144937515259),\n",
       " ('well', 0.9997109174728394),\n",
       " ('lost', 0.9997066259384155),\n",
       " ('around', 0.9997054934501648),\n",
       " ('nothing', 0.999704897403717),\n",
       " ('one', 0.9996944665908813)]"
      ]
     },
     "execution_count": 88,
     "metadata": {},
     "output_type": "execute_result"
    }
   ],
   "source": [
    "model.wv.most_similar(\"bad\")"
   ]
  },
  {
   "cell_type": "code",
   "execution_count": 89,
   "metadata": {},
   "outputs": [
    {
     "data": {
      "text/plain": [
       "<gensim.models.keyedvectors.KeyedVectors at 0x23ff24c57c0>"
      ]
     },
     "execution_count": 89,
     "metadata": {},
     "output_type": "execute_result"
    }
   ],
   "source": [
    "model.wv"
   ]
  },
  {
   "cell_type": "markdown",
   "metadata": {},
   "source": [
    "## t-sne Model"
   ]
  },
  {
   "cell_type": "markdown",
   "metadata": {},
   "source": [
    "a dimensionality reduction technique used to represent high-dimensional dataset in a low-dimensional space of two or three dimensions"
   ]
  },
  {
   "cell_type": "code",
   "execution_count": 90,
   "metadata": {},
   "outputs": [],
   "source": [
    "from sklearn.manifold import TSNE\n",
    "import matplotlib.pyplot as plt"
   ]
  },
  {
   "cell_type": "code",
   "execution_count": 91,
   "metadata": {},
   "outputs": [
    {
     "ename": "TypeError",
     "evalue": "'Word2Vec' object is not subscriptable",
     "output_type": "error",
     "traceback": [
      "\u001b[1;31m---------------------------------------------------------------------------\u001b[0m",
      "\u001b[1;31mTypeError\u001b[0m                                 Traceback (most recent call last)",
      "\u001b[1;32mc:\\Users\\kayla\\Documents\\Bootcamp\\Final Project\\NLP\\nlp code.ipynb Cell 46\u001b[0m in \u001b[0;36m<cell line: 2>\u001b[1;34m()\u001b[0m\n\u001b[0;32m      <a href='vscode-notebook-cell:/c%3A/Users/kayla/Documents/Bootcamp/Final%20Project/NLP/nlp%20code.ipynb#Y106sZmlsZQ%3D%3D?line=0'>1</a>\u001b[0m labels \u001b[39m=\u001b[39m [i \u001b[39mfor\u001b[39;00m i \u001b[39min\u001b[39;00m model\u001b[39m.\u001b[39mwv\u001b[39m.\u001b[39mkey_to_index\u001b[39m.\u001b[39mkeys()]\n\u001b[1;32m----> <a href='vscode-notebook-cell:/c%3A/Users/kayla/Documents/Bootcamp/Final%20Project/NLP/nlp%20code.ipynb#Y106sZmlsZQ%3D%3D?line=1'>2</a>\u001b[0m tokens \u001b[39m=\u001b[39m model[labels]\n\u001b[0;32m      <a href='vscode-notebook-cell:/c%3A/Users/kayla/Documents/Bootcamp/Final%20Project/NLP/nlp%20code.ipynb#Y106sZmlsZQ%3D%3D?line=3'>4</a>\u001b[0m tsne_model \u001b[39m=\u001b[39m TSNE(init\u001b[39m=\u001b[39m\u001b[39m'\u001b[39m\u001b[39mpca\u001b[39m\u001b[39m'\u001b[39m,learning_rate\u001b[39m=\u001b[39m\u001b[39m'\u001b[39m\u001b[39mauto\u001b[39m\u001b[39m'\u001b[39m)\n\u001b[0;32m      <a href='vscode-notebook-cell:/c%3A/Users/kayla/Documents/Bootcamp/Final%20Project/NLP/nlp%20code.ipynb#Y106sZmlsZQ%3D%3D?line=4'>5</a>\u001b[0m new_values \u001b[39m=\u001b[39m tsne_model\u001b[39m.\u001b[39mfit_transform(tokens)\n",
      "\u001b[1;31mTypeError\u001b[0m: 'Word2Vec' object is not subscriptable"
     ]
    }
   ],
   "source": [
    "labels = [i for i in model.wv.key_to_index.keys()]\n",
    "tokens = model[labels]\n",
    "\n",
    "tsne_model = TSNE(init='pca',learning_rate='auto')\n",
    "new_values = tsne_model.fit_transform(tokens)"
   ]
  },
  {
   "cell_type": "code",
   "execution_count": null,
   "metadata": {},
   "outputs": [],
   "source": [
    "plt.figure(figsize=(7, 5)) \n",
    "for i in range(new_values.shape[0]):\n",
    "    plt.scatter(x[i],y[i])\n",
    "    plt.annotate(labels[i],\n",
    "                 xy=(x[i], y[i]),\n",
    "                 xytext=(5, 2),\n",
    "                 textcoords='offset points',\n",
    "                 ha='right',\n",
    "                 va='bottom')"
   ]
  },
  {
   "cell_type": "code",
   "execution_count": 94,
   "metadata": {},
   "outputs": [],
   "source": [
    "def tsne_plot(model):\n",
    "    \"Creates and TSNE model and plots it\"\n",
    "    labels = []\n",
    "    tokens = []\n",
    "\n",
    "   \n",
    "    for word in model.vocab:\n",
    "        tokens.append(word)\n",
    "        labels.append(word)\n",
    "    \n",
    "    tsne_model = TSNE(perplexity=40, n_components=2, init='pca',)\n",
    "    new_values = tsne_model.fit_transform(tokens)\n",
    "\n",
    "    x = []\n",
    "    y = []\n",
    "    for value in new_values:\n",
    "        x.append(value[0])\n",
    "        y.append(value[1])\n",
    "        \n",
    "    plt.figure(figsize=(16, 16)) \n",
    "    for i in range(len(x)):\n",
    "        plt.scatter(x[i],y[i])\n",
    "        plt.annotate(labels[i],\n",
    "                     xy=(x[i], y[i]),\n",
    "                     xytext=(5, 2),\n",
    "                     textcoords='offset points',\n",
    "                     ha='right',\n",
    "                     va='bottom')\n",
    "    plt.show()"
   ]
  },
  {
   "cell_type": "code",
   "execution_count": 95,
   "metadata": {},
   "outputs": [
    {
     "ename": "AttributeError",
     "evalue": "'Word2Vec' object has no attribute 'vocab'",
     "output_type": "error",
     "traceback": [
      "\u001b[1;31m---------------------------------------------------------------------------\u001b[0m",
      "\u001b[1;31mAttributeError\u001b[0m                            Traceback (most recent call last)",
      "\u001b[1;32mc:\\Users\\kayla\\Documents\\Bootcamp\\Final Project\\NLP\\nlp code.ipynb Cell 49\u001b[0m in \u001b[0;36m<cell line: 1>\u001b[1;34m()\u001b[0m\n\u001b[1;32m----> <a href='vscode-notebook-cell:/c%3A/Users/kayla/Documents/Bootcamp/Final%20Project/NLP/nlp%20code.ipynb#Y104sZmlsZQ%3D%3D?line=0'>1</a>\u001b[0m tsne_plot(model)\n",
      "\u001b[1;32mc:\\Users\\kayla\\Documents\\Bootcamp\\Final Project\\NLP\\nlp code.ipynb Cell 49\u001b[0m in \u001b[0;36mtsne_plot\u001b[1;34m(model)\u001b[0m\n\u001b[0;32m      <a href='vscode-notebook-cell:/c%3A/Users/kayla/Documents/Bootcamp/Final%20Project/NLP/nlp%20code.ipynb#Y104sZmlsZQ%3D%3D?line=2'>3</a>\u001b[0m labels \u001b[39m=\u001b[39m []\n\u001b[0;32m      <a href='vscode-notebook-cell:/c%3A/Users/kayla/Documents/Bootcamp/Final%20Project/NLP/nlp%20code.ipynb#Y104sZmlsZQ%3D%3D?line=3'>4</a>\u001b[0m tokens \u001b[39m=\u001b[39m []\n\u001b[1;32m----> <a href='vscode-notebook-cell:/c%3A/Users/kayla/Documents/Bootcamp/Final%20Project/NLP/nlp%20code.ipynb#Y104sZmlsZQ%3D%3D?line=6'>7</a>\u001b[0m \u001b[39mfor\u001b[39;00m word \u001b[39min\u001b[39;00m model\u001b[39m.\u001b[39;49mvocab:\n\u001b[0;32m      <a href='vscode-notebook-cell:/c%3A/Users/kayla/Documents/Bootcamp/Final%20Project/NLP/nlp%20code.ipynb#Y104sZmlsZQ%3D%3D?line=7'>8</a>\u001b[0m     tokens\u001b[39m.\u001b[39mappend(word)\n\u001b[0;32m      <a href='vscode-notebook-cell:/c%3A/Users/kayla/Documents/Bootcamp/Final%20Project/NLP/nlp%20code.ipynb#Y104sZmlsZQ%3D%3D?line=8'>9</a>\u001b[0m     labels\u001b[39m.\u001b[39mappend(word)\n",
      "\u001b[1;31mAttributeError\u001b[0m: 'Word2Vec' object has no attribute 'vocab'"
     ]
    }
   ],
   "source": [
    "tsne_plot(model)"
   ]
  },
  {
   "cell_type": "markdown",
   "metadata": {},
   "source": [
    "## Text Generator"
   ]
  },
  {
   "cell_type": "code",
   "execution_count": null,
   "metadata": {},
   "outputs": [],
   "source": [
    "import sys \n",
    "import tensorflow as tf\n",
    "from tensorflow import keras\n",
    "from keras.layers import LSTM, Activation, Flatten, Dropout, Dense, Embedding, TimeDistributed, CuDNNLSTM\n",
    "from keras.callbacks import ModelCheckpoint\n",
    "from keras.utils import np_utils"
   ]
  },
  {
   "cell_type": "code",
   "execution_count": null,
   "metadata": {},
   "outputs": [],
   "source": [
    "songs = songs.to_csv('songs.csv')"
   ]
  },
  {
   "cell_type": "code",
   "execution_count": null,
   "metadata": {},
   "outputs": [],
   "source": [
    "ts = pd.read_csv('songs.csv')\n",
    "ts"
   ]
  },
  {
   "cell_type": "markdown",
   "metadata": {},
   "source": [
    "Concatenate the lines of each song to get each song by its own in one string"
   ]
  },
  {
   "cell_type": "code",
   "execution_count": null,
   "metadata": {},
   "outputs": [],
   "source": [
    "def processFirstLine(lyrics, songID, songName, row):\n",
    "    lyrics.append(row['lyric'] + '\\n')\n",
    "    songID.append( row['year']*100+ row['track_n'])\n",
    "    songName.append(row['track_title'])\n",
    "    return lyrics,songID,songName\n",
    "# define empty lists for the lyrics , songID , songName \n",
    "lyrics = []\n",
    "songID = []\n",
    "songName = []\n",
    "# songNumber indicates the song number in the dataset\n",
    "songNumber = 1\n",
    "# i indicates the song number\n",
    "i = 0\n",
    "isFirstLine = True\n",
    "# Iterate through every lyrics line and join them together for each song independently \n",
    "for index,row in dataset.iterrows():\n",
    "    if(songNumber == row['track_n']):\n",
    "        if (isFirstLine):\n",
    "            lyrics,songID,songName = processFirstLine(lyrics,songID,songName,row)\n",
    "            isFirstLine = False\n",
    "        else :\n",
    "            #if we still in the same song , keep joining the lyrics lines    \n",
    "            lyrics[i] +=  row['lyric'] + '\\n'\n",
    "    #When it's done joining a song's lyrics lines , go to the next song :    \n",
    "    else :\n",
    "        lyrics,songID,songName = processFirstLine(lyrics,songID,songName,row)\n",
    "        songNumber = row['track_n']\n",
    "        i+=1"
   ]
  }
 ],
 "metadata": {
  "kernelspec": {
   "display_name": "Python 3.9.13 ('base')",
   "language": "python",
   "name": "python3"
  },
  "language_info": {
   "codemirror_mode": {
    "name": "ipython",
    "version": 3
   },
   "file_extension": ".py",
   "mimetype": "text/x-python",
   "name": "python",
   "nbconvert_exporter": "python",
   "pygments_lexer": "ipython3",
   "version": "3.9.13"
  },
  "orig_nbformat": 4,
  "vscode": {
   "interpreter": {
    "hash": "385b4a73d404b7359a04f5ae2a80d4517c4e56360f3f42a52b0ddcf3eef1f3ef"
   }
  }
 },
 "nbformat": 4,
 "nbformat_minor": 2
}
